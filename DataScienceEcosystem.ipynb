{
 "cells": [
  {
   "cell_type": "markdown",
   "id": "934d04d4",
   "metadata": {},
   "source": [
    "# Data Science Tools and Ecosystem"
   ]
  },
  {
   "cell_type": "markdown",
   "id": "bfef40d5",
   "metadata": {},
   "source": [
    "##### In this notebook, Data Science Tools and Ecosystem are summarized."
   ]
  },
  {
   "cell_type": "markdown",
   "id": "3a5900a1",
   "metadata": {},
   "source": [
    "***Objectives:***\n",
    "- Some of the commonly used libraries used by Data Scientists.\n",
    "- Below are a few examples of evaluating arithmetic expressions in Python.\n",
    "- Different data science tools.\n",
    "- conversion of minutes into hours."
   ]
  },
  {
   "cell_type": "markdown",
   "id": "6d8ef0e8",
   "metadata": {},
   "source": [
    "Some of the commonly used libraries used by Data Scientists include:\n",
    "- IN PYTHON\n",
    "  1. NumPy\n",
    "  2. Pandas\n",
    "  3. Matpotlib\n",
    "  4. Scikit-Learn\n",
    "- IN R\n",
    "  1. ggplot2\n",
    "  2. dplyr\n",
    "  3. caret\n",
    "  \n",
    "and many more"
   ]
  },
  {
   "cell_type": "markdown",
   "id": "5a22c417",
   "metadata": {},
   "source": [
    "|Data Science Tools|\n",
    "|------------------|\n",
    "|Jupyter Notebook|\n",
    "|RStudio|\n",
    "|Spyder|"
   ]
  },
  {
   "cell_type": "markdown",
   "id": "c1634591",
   "metadata": {},
   "source": [
    "### Below are a few examples of evaluating arithmetic expressions in Python"
   ]
  },
  {
   "cell_type": "code",
   "execution_count": 1,
   "id": "4555145f",
   "metadata": {},
   "outputs": [
    {
     "data": {
      "text/plain": [
       "17"
      ]
     },
     "execution_count": 1,
     "metadata": {},
     "output_type": "execute_result"
    }
   ],
   "source": [
    "#This a simple arithmetic expression to mutiply then add integers\n",
    "(3*4)+5\n"
   ]
  },
  {
   "cell_type": "code",
   "execution_count": 2,
   "id": "933f9e8e",
   "metadata": {},
   "outputs": [
    {
     "name": "stdout",
     "output_type": "stream",
     "text": [
      "3.3333333333333335\n"
     ]
    }
   ],
   "source": [
    "# This will convert 200 minutes to hours by diving by 60\n",
    "# n=Number of hours\n",
    "n=200/60\n",
    "print(n)"
   ]
  },
  {
   "cell_type": "markdown",
   "id": "2ae753b8",
   "metadata": {},
   "source": [
    "## Author:\n",
    "-Amlan Mondal"
   ]
  }
 ],
 "metadata": {
  "kernelspec": {
   "display_name": "Python 3",
   "language": "python",
   "name": "python3"
  },
  "language_info": {
   "codemirror_mode": {
    "name": "ipython",
    "version": 3
   },
   "file_extension": ".py",
   "mimetype": "text/x-python",
   "name": "python",
   "nbconvert_exporter": "python",
   "pygments_lexer": "ipython3",
   "version": "3.13.5"
  }
 },
 "nbformat": 4,
 "nbformat_minor": 5
}
